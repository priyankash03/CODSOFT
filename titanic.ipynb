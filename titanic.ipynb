{
 "cells": [
  {
   "cell_type": "code",
   "execution_count": 1,
   "id": "b17ddbb6-a68e-460c-8fcb-fd918a1fbb87",
   "metadata": {},
   "outputs": [],
   "source": [
    "# Import necessary libraries\n",
    "import pandas as pd\n",
    "import numpy as np\n",
    "import seaborn as sns\n",
    "import matplotlib.pyplot as plt\n",
    "from sklearn.model_selection import train_test_split\n",
    "from sklearn.preprocessing import StandardScaler, LabelEncoder\n",
    "from sklearn.linear_model import LogisticRegression\n",
    "from sklearn.metrics import accuracy_score, classification_report, confusion_matrix\n"
   ]
  },
  {
   "cell_type": "code",
   "execution_count": 2,
   "id": "1ccd2907-3afd-43d6-ab2b-dc01f6660f7d",
   "metadata": {},
   "outputs": [],
   "source": [
    "# Load the Titanic dataset\n",
    "titanic_df = pd.read_csv('titanic.csv')"
   ]
  },
  {
   "cell_type": "code",
   "execution_count": 3,
   "id": "a589a8f6-52fc-40c1-be0c-d4f0dbf1115e",
   "metadata": {},
   "outputs": [
    {
     "name": "stdout",
     "output_type": "stream",
     "text": [
      "   PassengerId  Survived  Pclass  \\\n",
      "0            1         0       3   \n",
      "1            2         1       1   \n",
      "2            3         1       3   \n",
      "3            4         1       1   \n",
      "4            5         0       3   \n",
      "\n",
      "                                                Name     Sex   Age  SibSp  \\\n",
      "0                            Braund, Mr. Owen Harris    male  22.0      1   \n",
      "1  Cumings, Mrs. John Bradley (Florence Briggs Th...  female  38.0      1   \n",
      "2                             Heikkinen, Miss. Laina  female  26.0      0   \n",
      "3       Futrelle, Mrs. Jacques Heath (Lily May Peel)  female  35.0      1   \n",
      "4                           Allen, Mr. William Henry    male  35.0      0   \n",
      "\n",
      "   Parch            Ticket     Fare Cabin Embarked  \n",
      "0      0         A/5 21171   7.2500   NaN        S  \n",
      "1      0          PC 17599  71.2833   C85        C  \n",
      "2      0  STON/O2. 3101282   7.9250   NaN        S  \n",
      "3      0            113803  53.1000  C123        S  \n",
      "4      0            373450   8.0500   NaN        S  \n",
      "PassengerId      0\n",
      "Survived         0\n",
      "Pclass           0\n",
      "Name             0\n",
      "Sex              0\n",
      "Age            177\n",
      "SibSp            0\n",
      "Parch            0\n",
      "Ticket           0\n",
      "Fare             0\n",
      "Cabin          687\n",
      "Embarked         2\n",
      "dtype: int64\n"
     ]
    }
   ],
   "source": [
    "# Display the first few rows of the dataset to understand its structure\n",
    "print(titanic_df.head())\n",
    "\n",
    "# Data exploration: Check for missing values in each column\n",
    "# This helps identify columns that need to be cleaned or filled\n",
    "print(titanic_df.isnull().sum())"
   ]
  },
  {
   "cell_type": "code",
   "execution_count": 4,
   "id": "890cbc37-6fca-4afb-93a8-2479f9bd06e6",
   "metadata": {},
   "outputs": [],
   "source": [
    "# Drop irrelevant columns that don't contribute to the model\n",
    "# PassengerId, Name, Ticket, and Cabin are dropped as they don't provide useful information for prediction\n",
    "titanic_df = titanic_df.drop(columns=['PassengerId', 'Name', 'Ticket', 'Cabin'])\n",
    "\n",
    "# Fill missing values in the 'Age' column with the median age of passengers\n",
    "# This handles missing data by using a central tendency measure\n",
    "titanic_df['Age'].fillna(titanic_df['Age'].median(), inplace=True)\n",
    "\n",
    "# Fill missing values in the 'Embarked' column with the mode (most frequent value)\n",
    "# This ensures that all rows have valid data\n",
    "titanic_df['Embarked'].fillna(titanic_df['Embarked'].mode()[0], inplace=True)"
   ]
  },
  {
   "cell_type": "code",
   "execution_count": 5,
   "id": "9735b13d-f4f8-4349-9163-6910f87e25a1",
   "metadata": {},
   "outputs": [],
   "source": [
    "# Encode categorical variables (Sex and Embarked) using LabelEncoder\n",
    "# Converts categorical text data into numerical data for the model\n",
    "label_encoder = LabelEncoder()\n",
    "titanic_df['Sex'] = label_encoder.fit_transform(titanic_df['Sex'])  # Male=1, Female=0\n",
    "titanic_df['Embarked'] = label_encoder.fit_transform(titanic_df['Embarked'])  # C=0, Q=1, S=2\n",
    "\n",
    "# Split the data into features (X) and target (y)\n",
    "# X contains all columns except 'Survived', and y contains the 'Survived' column\n",
    "X = titanic_df.drop('Survived', axis=1)\n",
    "y = titanic_df['Survived']"
   ]
  },
  {
   "cell_type": "code",
   "execution_count": 6,
   "id": "20eaa674-723e-4ce2-b292-a21f7bdc7357",
   "metadata": {},
   "outputs": [],
   "source": [
    "# Split the data into training and testing sets\n",
    "# 70% of the data is used for training, and 30% is used for testing\n",
    "X_train, X_test, y_train, y_test = train_test_split(X, y, test_size=0.3, random_state=42, stratify=y)\n",
    "\n",
    "# Standardize the features using StandardScaler\n",
    "# This scales the data to have a mean of 0 and a standard deviation of 1, which helps with model performance\n",
    "scaler = StandardScaler()\n",
    "X_train = scaler.fit_transform(X_train)\n",
    "X_test = scaler.transform(X_test)\n"
   ]
  },
  {
   "cell_type": "code",
   "execution_count": 7,
   "id": "87869f30-1f82-411a-b4a6-1a30d6fec7fe",
   "metadata": {},
   "outputs": [
    {
     "name": "stdout",
     "output_type": "stream",
     "text": [
      "Accuracy: 0.7947761194029851\n"
     ]
    }
   ],
   "source": [
    "# Train the Logistic Regression model\n",
    "# Logistic Regression is a linear model used for binary classification problems like this one\n",
    "model = LogisticRegression(random_state=42)\n",
    "model.fit(X_train, y_train)\n",
    "\n",
    "# Make predictions on the test set\n",
    "# The model uses the learned weights to predict whether passengers survived or not\n",
    "y_pred = model.predict(X_test)\n",
    "\n",
    "# Evaluate the model's performance\n",
    "# Accuracy measures the percentage of correct predictions\n",
    "print(\"Accuracy:\", accuracy_score(y_test, y_pred))"
   ]
  },
  {
   "cell_type": "code",
   "execution_count": null,
   "id": "4ec63213-6899-4212-bb3b-b48cd6cccafe",
   "metadata": {},
   "outputs": [],
   "source": []
  }
 ],
 "metadata": {
  "kernelspec": {
   "display_name": "Python 3 (ipykernel)",
   "language": "python",
   "name": "python3"
  },
  "language_info": {
   "codemirror_mode": {
    "name": "ipython",
    "version": 3
   },
   "file_extension": ".py",
   "mimetype": "text/x-python",
   "name": "python",
   "nbconvert_exporter": "python",
   "pygments_lexer": "ipython3",
   "version": "3.11.7"
  }
 },
 "nbformat": 4,
 "nbformat_minor": 5
}
