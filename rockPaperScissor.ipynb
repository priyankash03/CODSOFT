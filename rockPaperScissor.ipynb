{
 "cells": [
  {
   "cell_type": "code",
   "execution_count": 5,
   "id": "d0aa8900-0552-42f1-ab19-f79419fd3024",
   "metadata": {},
   "outputs": [],
   "source": [
    "#Let's implement the Rock-Paper-Scissors game in Python\n",
    "\n"
   ]
  },
  {
   "cell_type": "code",
   "execution_count": 6,
   "id": "295e79a2-0178-4614-8318-fdb76ed3992a",
   "metadata": {},
   "outputs": [],
   "source": [
    "#1. Command-Line Interface (CLI) Rock-Paper-Scissors Game"
   ]
  },
  {
   "cell_type": "code",
   "execution_count": 7,
   "id": "b421ccd1-779a-4744-8e40-77f4123d790e",
   "metadata": {},
   "outputs": [
    {
     "name": "stdout",
     "output_type": "stream",
     "text": [
      "Welcome to Rock-Paper-Scissors!\n"
     ]
    },
    {
     "name": "stdin",
     "output_type": "stream",
     "text": [
      "Choose rock, paper, or scissors:  rock\n"
     ]
    },
    {
     "name": "stdout",
     "output_type": "stream",
     "text": [
      "\n",
      "You chose: rock\n",
      "Computer chose: paper\n",
      "You lose!\n",
      "\n",
      "Scores -> You: 0 | Computer: 1\n"
     ]
    },
    {
     "name": "stdin",
     "output_type": "stream",
     "text": [
      "\n",
      "Do you want to play again? (yes/no):  yes\n",
      "Choose rock, paper, or scissors:  paper\n"
     ]
    },
    {
     "name": "stdout",
     "output_type": "stream",
     "text": [
      "\n",
      "You chose: paper\n",
      "Computer chose: paper\n",
      "It's a tie!\n",
      "\n",
      "Scores -> You: 0 | Computer: 1\n"
     ]
    },
    {
     "name": "stdin",
     "output_type": "stream",
     "text": [
      "\n",
      "Do you want to play again? (yes/no):  yes\n",
      "Choose rock, paper, or scissors:  rock\n"
     ]
    },
    {
     "name": "stdout",
     "output_type": "stream",
     "text": [
      "\n",
      "You chose: rock\n",
      "Computer chose: rock\n",
      "It's a tie!\n",
      "\n",
      "Scores -> You: 0 | Computer: 1\n"
     ]
    },
    {
     "name": "stdin",
     "output_type": "stream",
     "text": [
      "\n",
      "Do you want to play again? (yes/no):  yes\n",
      "Choose rock, paper, or scissors:  rock\n"
     ]
    },
    {
     "name": "stdout",
     "output_type": "stream",
     "text": [
      "\n",
      "You chose: rock\n",
      "Computer chose: scissors\n",
      "You win!\n",
      "\n",
      "Scores -> You: 1 | Computer: 1\n"
     ]
    },
    {
     "name": "stdin",
     "output_type": "stream",
     "text": [
      "\n",
      "Do you want to play again? (yes/no):  no\n"
     ]
    },
    {
     "name": "stdout",
     "output_type": "stream",
     "text": [
      "Thanks for playing! Goodbye!\n"
     ]
    }
   ],
   "source": [
    "import random\n",
    "\n",
    "def get_computer_choice():\n",
    "    \"\"\"Generate a random choice for the computer: rock, paper, or scissors.\"\"\"\n",
    "    return random.choice(['rock', 'paper', 'scissors'])\n",
    "\n",
    "def determine_winner(user_choice, computer_choice):\n",
    "    \"\"\"Determine the winner based on the choices of the user and the computer.\"\"\"\n",
    "    if user_choice == computer_choice:\n",
    "        return \"It's a tie!\"\n",
    "    elif (user_choice == 'rock' and computer_choice == 'scissors') or \\\n",
    "         (user_choice == 'scissors' and computer_choice == 'paper') or \\\n",
    "         (user_choice == 'paper' and computer_choice == 'rock'):\n",
    "        return \"You win!\"\n",
    "    else:\n",
    "        return \"You lose!\"\n",
    "\n",
    "def main():\n",
    "    user_score = 0\n",
    "    computer_score = 0\n",
    "    \n",
    "    print(\"Welcome to Rock-Paper-Scissors!\")\n",
    "    \n",
    "    while True:\n",
    "        # User Input\n",
    "        user_choice = input(\"Choose rock, paper, or scissors: \").lower()\n",
    "        \n",
    "        if user_choice not in ['rock', 'paper', 'scissors']:\n",
    "            print(\"Invalid choice. Please try again.\")\n",
    "            continue\n",
    "        \n",
    "        # Computer Selection\n",
    "        computer_choice = get_computer_choice()\n",
    "        \n",
    "        # Display choices\n",
    "        print(f\"\\nYou chose: {user_choice}\")\n",
    "        print(f\"Computer chose: {computer_choice}\")\n",
    "        \n",
    "        # Determine the winner\n",
    "        result = determine_winner(user_choice, computer_choice)\n",
    "        print(result)\n",
    "        \n",
    "        # Update scores\n",
    "        if result == \"You win!\":\n",
    "            user_score += 1\n",
    "        elif result == \"You lose!\":\n",
    "            computer_score += 1\n",
    "        \n",
    "        # Display scores\n",
    "        print(f\"\\nScores -> You: {user_score} | Computer: {computer_score}\")\n",
    "        \n",
    "        # Play Again\n",
    "        play_again = input(\"\\nDo you want to play again? (yes/no): \").lower()\n",
    "        if play_again != 'yes':\n",
    "            print(\"Thanks for playing! Goodbye!\")\n",
    "            break\n",
    "\n",
    "if __name__ == \"__main__\":\n",
    "    main()\n"
   ]
  },
  {
   "cell_type": "code",
   "execution_count": 8,
   "id": "f831f95f-2e37-43ad-82c8-8841d479e770",
   "metadata": {},
   "outputs": [],
   "source": [
    "#Graphical User Interface (GUI) Rock-Paper-Scissors Game Using Tkinter"
   ]
  },
  {
   "cell_type": "code",
   "execution_count": 9,
   "id": "d8f166f0-845a-41a0-9acb-4e6461ea5463",
   "metadata": {},
   "outputs": [],
   "source": [
    "import tkinter as tk\n",
    "import random\n",
    "\n",
    "# Function to handle user's choice and determine the winner\n",
    "def play(user_choice):\n",
    "    computer_choice = random.choice(['rock', 'paper', 'scissors'])\n",
    "    \n",
    "    result_label.config(text=f\"Computer chose: {computer_choice}\")\n",
    "    \n",
    "    if user_choice == computer_choice:\n",
    "        outcome = \"It's a tie!\"\n",
    "    elif (user_choice == 'rock' and computer_choice == 'scissors') or \\\n",
    "         (user_choice == 'scissors' and computer_choice == 'paper') or \\\n",
    "         (user_choice == 'paper' and computer_choice == 'rock'):\n",
    "        outcome = \"You win!\"\n",
    "        update_score('user')\n",
    "    else:\n",
    "        outcome = \"You lose!\"\n",
    "        update_score('computer')\n",
    "    \n",
    "    outcome_label.config(text=outcome)\n",
    "\n",
    "def update_score(winner):\n",
    "    global user_score, computer_score\n",
    "    \n",
    "    if winner == 'user':\n",
    "        user_score += 1\n",
    "    elif winner == 'computer':\n",
    "        computer_score += 1\n",
    "    \n",
    "    score_label.config(text=f\"Scores -> You: {user_score} | Computer: {computer_score}\")\n",
    "\n",
    "# Function to reset the game\n",
    "def reset_game():\n",
    "    global user_score, computer_score\n",
    "    user_score = 0\n",
    "    computer_score = 0\n",
    "    score_label.config(text=f\"Scores -> You: {user_score} | Computer: {computer_score}\")\n",
    "    result_label.config(text=\"\")\n",
    "    outcome_label.config(text=\"\")\n",
    "\n",
    "# Setting up the main window\n",
    "root = tk.Tk()\n",
    "root.title(\"Rock-Paper-Scissors\")\n",
    "\n",
    "# Initialize scores\n",
    "user_score = 0\n",
    "computer_score = 0\n",
    "\n",
    "# Instruction label\n",
    "instruction_label = tk.Label(root, text=\"Choose Rock, Paper, or Scissors:\", font=('Arial', 14))\n",
    "instruction_label.pack(pady=10)\n",
    "\n",
    "# Buttons for user to choose Rock, Paper, or Scissors\n",
    "rock_button = tk.Button(root, text=\"Rock\", width=10, height=2, command=lambda: play('rock'))\n",
    "rock_button.pack(side=tk.LEFT, padx=10)\n",
    "\n",
    "paper_button = tk.Button(root, text=\"Paper\", width=10, height=2, command=lambda: play('paper'))\n",
    "paper_button.pack(side=tk.LEFT, padx=10)\n",
    "\n",
    "scissors_button = tk.Button(root, text=\"Scissors\", width=10, height=2, command=lambda: play('scissors'))\n",
    "scissors_button.pack(side=tk.LEFT, padx=10)\n",
    "\n",
    "# Label to display computer's choice\n",
    "result_label = tk.Label(root, text=\"\", font=('Arial', 14))\n",
    "result_label.pack(pady=10)\n",
    "\n",
    "# Label to display the outcome of the round\n",
    "outcome_label = tk.Label(root, text=\"\", font=('Arial', 14))\n",
    "outcome_label.pack(pady=10)\n",
    "\n",
    "# Label to display scores\n",
    "score_label = tk.Label(root, text=f\"Scores -> You: {user_score} | Computer: {computer_score}\", font=('Arial', 14))\n",
    "score_label.pack(pady=10)\n",
    "\n",
    "# Button to reset the game\n",
    "reset_button = tk.Button(root, text=\"Reset Game\", width=10, height=2, command=reset_game)\n",
    "reset_button.pack(pady=10)\n",
    "\n",
    "# Running the application\n",
    "root.mainloop()\n"
   ]
  },
  {
   "cell_type": "code",
   "execution_count": null,
   "id": "12b5f4f0-b775-43d7-9c6c-33e645761e35",
   "metadata": {},
   "outputs": [],
   "source": []
  }
 ],
 "metadata": {
  "kernelspec": {
   "display_name": "Python 3 (ipykernel)",
   "language": "python",
   "name": "python3"
  },
  "language_info": {
   "codemirror_mode": {
    "name": "ipython",
    "version": 3
   },
   "file_extension": ".py",
   "mimetype": "text/x-python",
   "name": "python",
   "nbconvert_exporter": "python",
   "pygments_lexer": "ipython3",
   "version": "3.11.7"
  }
 },
 "nbformat": 4,
 "nbformat_minor": 5
}
